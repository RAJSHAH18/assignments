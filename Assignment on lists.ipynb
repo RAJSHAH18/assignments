{
 "cells": [
  {
   "cell_type": "code",
   "execution_count": 4,
   "id": "7a3f59df",
   "metadata": {},
   "outputs": [
    {
     "name": "stdout",
     "output_type": "stream",
     "text": [
      "[2]\n"
     ]
    }
   ],
   "source": [
    "l1 = [1,2,3,4,5,6,7,8,9,10,12,13,14]\n",
    "print(l1[1:2])"
   ]
  },
  {
   "cell_type": "code",
   "execution_count": 5,
   "id": "517cc929",
   "metadata": {},
   "outputs": [
    {
     "name": "stdout",
     "output_type": "stream",
     "text": [
      "[13]\n"
     ]
    }
   ],
   "source": [
    "print(l1[11:12])"
   ]
  },
  {
   "cell_type": "code",
   "execution_count": 8,
   "id": "913b2340",
   "metadata": {},
   "outputs": [
    {
     "name": "stdout",
     "output_type": "stream",
     "text": [
      "[14]\n"
     ]
    }
   ],
   "source": [
    "print(l1[12:13])"
   ]
  },
  {
   "cell_type": "code",
   "execution_count": 11,
   "id": "4809914f",
   "metadata": {},
   "outputs": [
    {
     "name": "stdout",
     "output_type": "stream",
     "text": [
      "[1, 2, 3, 4]\n"
     ]
    }
   ],
   "source": [
    "print(l1[0:4])"
   ]
  },
  {
   "cell_type": "code",
   "execution_count": 12,
   "id": "c6846b4c",
   "metadata": {},
   "outputs": [
    {
     "name": "stdout",
     "output_type": "stream",
     "text": [
      "[10, 12, 13]\n"
     ]
    }
   ],
   "source": [
    "print(l1[9:12])"
   ]
  },
  {
   "cell_type": "code",
   "execution_count": 14,
   "id": "e0868c19",
   "metadata": {},
   "outputs": [
    {
     "name": "stdout",
     "output_type": "stream",
     "text": [
      "[6, 7, 8, 9]\n"
     ]
    }
   ],
   "source": [
    "print(l1[5:9])"
   ]
  },
  {
   "cell_type": "code",
   "execution_count": 16,
   "id": "444bf9ef",
   "metadata": {},
   "outputs": [
    {
     "name": "stdout",
     "output_type": "stream",
     "text": [
      "[3, 5, 7, 9]\n"
     ]
    }
   ],
   "source": [
    "print(l1[2:10:2])"
   ]
  },
  {
   "cell_type": "code",
   "execution_count": 19,
   "id": "8896c49e",
   "metadata": {},
   "outputs": [
    {
     "name": "stdout",
     "output_type": "stream",
     "text": [
      "[14, 10, 7, 4]\n"
     ]
    }
   ],
   "source": [
    "print(l1[-1:-11:-3])"
   ]
  },
  {
   "cell_type": "code",
   "execution_count": 21,
   "id": "44cd9eb4",
   "metadata": {},
   "outputs": [
    {
     "name": "stdout",
     "output_type": "stream",
     "text": [
      "[5, 4, 3, 2, 1]\n"
     ]
    }
   ],
   "source": [
    "print(l1[4::-1])"
   ]
  },
  {
   "cell_type": "code",
   "execution_count": null,
   "id": "49c0088f",
   "metadata": {},
   "outputs": [],
   "source": []
  }
 ],
 "metadata": {
  "kernelspec": {
   "display_name": "Python 3 (ipykernel)",
   "language": "python",
   "name": "python3"
  },
  "language_info": {
   "codemirror_mode": {
    "name": "ipython",
    "version": 3
   },
   "file_extension": ".py",
   "mimetype": "text/x-python",
   "name": "python",
   "nbconvert_exporter": "python",
   "pygments_lexer": "ipython3",
   "version": "3.9.13"
  }
 },
 "nbformat": 4,
 "nbformat_minor": 5
}
