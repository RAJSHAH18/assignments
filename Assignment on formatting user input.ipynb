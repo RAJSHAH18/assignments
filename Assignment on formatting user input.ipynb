{
 "cells": [
  {
   "cell_type": "code",
   "execution_count": 1,
   "id": "2fd2d936",
   "metadata": {},
   "outputs": [
    {
     "name": "stdout",
     "output_type": "stream",
     "text": [
      "Enter name :- Raj\n",
      "Marks obtained in Science : 90\n",
      "Marks obtaiend in maths : 90\n",
      "Marks obtained in english : 90\n",
      "Marks obtained in hiistory : 90\n",
      "Raj obtained 90 marks in Science,90 marks in Maths,90 marks in English,90 marks in History.\n",
      "His overall percentage is 90.0\n"
     ]
    }
   ],
   "source": [
    "name = input(\"Enter name :- \")\n",
    "science = int(input(\"Marks obtained in Science : \"))\n",
    "maths = int(input(\"Marks obtaiend in maths : \"))\n",
    "english = int(input(\"Marks obtained in english : \"))\n",
    "history = int(input(\"Marks obtained in hiistory : \"))\n",
    "\n",
    "percent = (science + maths + english + history)/4\n",
    "\n",
    "print(f\"{name} obtained {science} marks in Science\",f\"{maths} marks in Maths\",f\"{english} marks in English\",f\"{history} marks in History\",sep = \",\",end=\".\")\n",
    "print(f\"\\nHis overall percentage is {percent}\")"
   ]
  },
  {
   "cell_type": "code",
   "execution_count": null,
   "id": "fd9c6e22",
   "metadata": {},
   "outputs": [],
   "source": []
  }
 ],
 "metadata": {
  "kernelspec": {
   "display_name": "Python 3 (ipykernel)",
   "language": "python",
   "name": "python3"
  },
  "language_info": {
   "codemirror_mode": {
    "name": "ipython",
    "version": 3
   },
   "file_extension": ".py",
   "mimetype": "text/x-python",
   "name": "python",
   "nbconvert_exporter": "python",
   "pygments_lexer": "ipython3",
   "version": "3.9.13"
  }
 },
 "nbformat": 4,
 "nbformat_minor": 5
}
