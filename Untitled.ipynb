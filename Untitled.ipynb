{
 "cells": [
  {
   "cell_type": "code",
   "execution_count": 1,
   "id": "02fd2f1b",
   "metadata": {},
   "outputs": [
    {
     "name": "stdout",
     "output_type": "stream",
     "text": [
      "rain\n",
      "rain\n",
      "rain\n"
     ]
    }
   ],
   "source": [
    "a = \"rainforest\"\n",
    "# 1 way\n",
    "print(a[0:4])\n",
    "# 2 way\n",
    "print(a[a.index(\"r\"):a.index(\"n\")+1])\n",
    "# 3 way\n",
    "print(a[:a.find(\"n\")+1])"
   ]
  },
  {
   "cell_type": "code",
   "execution_count": 5,
   "id": "e8e602a1",
   "metadata": {},
   "outputs": [
    {
     "name": "stdout",
     "output_type": "stream",
     "text": [
      "forest\n",
      "forest\n"
     ]
    }
   ],
   "source": [
    "print(a[a.index(\"f\"):])\n",
    "print(a[a.index(\"f\"):a.index(\"t\")+1])\n",
    "print()\n"
   ]
  },
  {
   "cell_type": "code",
   "execution_count": null,
   "id": "f0aeac90",
   "metadata": {},
   "outputs": [],
   "source": []
  }
 ],
 "metadata": {
  "kernelspec": {
   "display_name": "Python 3 (ipykernel)",
   "language": "python",
   "name": "python3"
  },
  "language_info": {
   "codemirror_mode": {
    "name": "ipython",
    "version": 3
   },
   "file_extension": ".py",
   "mimetype": "text/x-python",
   "name": "python",
   "nbconvert_exporter": "python",
   "pygments_lexer": "ipython3",
   "version": "3.9.13"
  }
 },
 "nbformat": 4,
 "nbformat_minor": 5
}
