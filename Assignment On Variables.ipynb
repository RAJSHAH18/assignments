{
 "cells": [
  {
   "cell_type": "code",
   "execution_count": 3,
   "id": "6f7d7201",
   "metadata": {},
   "outputs": [],
   "source": [
    "x = 10\n",
    "y = 40\n",
    "z = -5\n",
    "t = 2.5\n",
    "a = 11\n",
    "b = -20\n",
    "\n"
   ]
  },
  {
   "cell_type": "code",
   "execution_count": 8,
   "id": "68ddbe1d",
   "metadata": {},
   "outputs": [
    {
     "data": {
      "text/plain": [
       "-0.0"
      ]
     },
     "execution_count": 8,
     "metadata": {},
     "output_type": "execute_result"
    }
   ],
   "source": [
    "((((((x+20-y)*z)/t)**2)//a)%4)*b"
   ]
  },
  {
   "cell_type": "code",
   "execution_count": null,
   "id": "4c5a9ea8",
   "metadata": {},
   "outputs": [],
   "source": []
  }
 ],
 "metadata": {
  "kernelspec": {
   "display_name": "Python 3 (ipykernel)",
   "language": "python",
   "name": "python3"
  },
  "language_info": {
   "codemirror_mode": {
    "name": "ipython",
    "version": 3
   },
   "file_extension": ".py",
   "mimetype": "text/x-python",
   "name": "python",
   "nbconvert_exporter": "python",
   "pygments_lexer": "ipython3",
   "version": "3.9.13"
  }
 },
 "nbformat": 4,
 "nbformat_minor": 5
}
