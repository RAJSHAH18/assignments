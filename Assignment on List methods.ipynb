{
 "cells": [
  {
   "cell_type": "code",
   "execution_count": 1,
   "id": "126e7ed1",
   "metadata": {},
   "outputs": [],
   "source": [
    "l1 = [10,20,30,40,50]"
   ]
  },
  {
   "cell_type": "code",
   "execution_count": 2,
   "id": "7da0a0df",
   "metadata": {},
   "outputs": [
    {
     "name": "stdout",
     "output_type": "stream",
     "text": [
      "5\n"
     ]
    }
   ],
   "source": [
    "print(len(l1))"
   ]
  },
  {
   "cell_type": "code",
   "execution_count": 3,
   "id": "38cf3f5c",
   "metadata": {},
   "outputs": [
    {
     "name": "stdout",
     "output_type": "stream",
     "text": [
      "[10, 20, 30, 40, 50, 40]\n"
     ]
    }
   ],
   "source": [
    "l1.append(40)\n",
    "print(l1)"
   ]
  },
  {
   "cell_type": "code",
   "execution_count": 4,
   "id": "8e5d88c0",
   "metadata": {},
   "outputs": [],
   "source": [
    "l1.append(60)"
   ]
  },
  {
   "cell_type": "code",
   "execution_count": 5,
   "id": "51698cba",
   "metadata": {},
   "outputs": [
    {
     "name": "stdout",
     "output_type": "stream",
     "text": [
      "[10, 20, 30, 40, 50, 40, 60]\n"
     ]
    }
   ],
   "source": [
    "print(l1)"
   ]
  },
  {
   "cell_type": "code",
   "execution_count": 6,
   "id": "3efaa0cf",
   "metadata": {},
   "outputs": [
    {
     "name": "stdout",
     "output_type": "stream",
     "text": [
      "[10, 20, 30, 40, 50, 40, 60, 20, 30, -20, -30]\n"
     ]
    }
   ],
   "source": [
    "l1.extend([20,30,-20,-30])\n",
    "print(l1)"
   ]
  },
  {
   "cell_type": "code",
   "execution_count": 7,
   "id": "a588cd36",
   "metadata": {},
   "outputs": [
    {
     "name": "stdout",
     "output_type": "stream",
     "text": [
      "[10, 20, 20, 30, 40, 50, 40, 60, 20, 30, -20, -30]\n"
     ]
    }
   ],
   "source": [
    "l1.insert(2,20)\n",
    "print(l1)"
   ]
  },
  {
   "cell_type": "code",
   "execution_count": 8,
   "id": "793eb061",
   "metadata": {},
   "outputs": [],
   "source": [
    "l1.insert(-2,20)"
   ]
  },
  {
   "cell_type": "code",
   "execution_count": 9,
   "id": "298127d4",
   "metadata": {},
   "outputs": [
    {
     "name": "stdout",
     "output_type": "stream",
     "text": [
      "[10, 20, 20, 30, 40, 50, 40, 60, 20, 30, 20, -20, -30]\n"
     ]
    }
   ],
   "source": [
    "print(l1)"
   ]
  },
  {
   "cell_type": "code",
   "execution_count": 10,
   "id": "db98e798",
   "metadata": {},
   "outputs": [
    {
     "name": "stdout",
     "output_type": "stream",
     "text": [
      "The last element is :  -30\n"
     ]
    }
   ],
   "source": [
    "ans = l1.pop()\n",
    "print(\"The last element is : \",ans)"
   ]
  },
  {
   "cell_type": "code",
   "execution_count": 11,
   "id": "cd354729",
   "metadata": {},
   "outputs": [
    {
     "name": "stdout",
     "output_type": "stream",
     "text": [
      "[10, 20, 20, 30, 40, 50, 40, 30, 20, 30, 20, -20]\n"
     ]
    }
   ],
   "source": [
    "\n",
    "l1[l1.index(60)] = 30\n",
    "print(l1)"
   ]
  },
  {
   "cell_type": "code",
   "execution_count": 12,
   "id": "e17f4994",
   "metadata": {},
   "outputs": [
    {
     "name": "stdout",
     "output_type": "stream",
     "text": [
      "The total no of 20's in ths list is 4\n"
     ]
    }
   ],
   "source": [
    "ans = l1.count(20)\n",
    "print(\"The total no of 20's in ths list is\",ans)"
   ]
  },
  {
   "cell_type": "code",
   "execution_count": 13,
   "id": "37bc6e27",
   "metadata": {},
   "outputs": [
    {
     "name": "stdout",
     "output_type": "stream",
     "text": [
      "[-20, 20, 30, 20, 30, 40, 50, 40, 30, 20, 20, 10]\n"
     ]
    }
   ],
   "source": [
    "# 1 Way \n",
    "print(l1[::-1])"
   ]
  },
  {
   "cell_type": "code",
   "execution_count": 14,
   "id": "77cda3f3",
   "metadata": {},
   "outputs": [
    {
     "name": "stdout",
     "output_type": "stream",
     "text": [
      "[-20, 20, 30, 20, 30, 40, 50, 40, 30, 20, 20, 10]\n"
     ]
    }
   ],
   "source": [
    "# 2 Way \n",
    "l1.reverse()\n",
    "print(l1)"
   ]
  },
  {
   "cell_type": "code",
   "execution_count": 15,
   "id": "ba662575",
   "metadata": {},
   "outputs": [
    {
     "name": "stdout",
     "output_type": "stream",
     "text": [
      "[50, 40, 40, 30, 30, 30, 20, 20, 20, 20, 10, -20]\n"
     ]
    }
   ],
   "source": [
    "# 1 way \n",
    "l1.sort(reverse = True)\n",
    "print(l1)"
   ]
  },
  {
   "cell_type": "code",
   "execution_count": 16,
   "id": "2cfe8102",
   "metadata": {},
   "outputs": [
    {
     "name": "stdout",
     "output_type": "stream",
     "text": [
      "[50, 40, 40, 30, 30, 30, 20, 20, 20, 20, 10, -20]\n"
     ]
    }
   ],
   "source": [
    "# 2 way\n",
    "ans = sorted(l1,reverse = True)\n",
    "print(ans)"
   ]
  },
  {
   "cell_type": "code",
   "execution_count": 18,
   "id": "a123ca6f",
   "metadata": {},
   "outputs": [
    {
     "name": "stdout",
     "output_type": "stream",
     "text": [
      "[50, 40, 30, 30, 30, 20, 20, 20, 20, 10, -20]\n"
     ]
    }
   ],
   "source": [
    "del l1[1]\n",
    "print(l1)"
   ]
  },
  {
   "cell_type": "code",
   "execution_count": 21,
   "id": "320328c2",
   "metadata": {},
   "outputs": [
    {
     "name": "stdout",
     "output_type": "stream",
     "text": [
      "[50, 40, 30, 30, 30, 20, 10, -20]\n"
     ]
    }
   ],
   "source": [
    "l1.remove(20)\n",
    "print(l1)"
   ]
  },
  {
   "cell_type": "code",
   "execution_count": 22,
   "id": "a143eed7",
   "metadata": {},
   "outputs": [],
   "source": [
    "# del l1 is  used to delete the lists"
   ]
  },
  {
   "cell_type": "code",
   "execution_count": null,
   "id": "5a43393e",
   "metadata": {},
   "outputs": [],
   "source": [
    "# l1.clear() is used to remove all elements from the lists"
   ]
  }
 ],
 "metadata": {
  "kernelspec": {
   "display_name": "Python 3 (ipykernel)",
   "language": "python",
   "name": "python3"
  },
  "language_info": {
   "codemirror_mode": {
    "name": "ipython",
    "version": 3
   },
   "file_extension": ".py",
   "mimetype": "text/x-python",
   "name": "python",
   "nbconvert_exporter": "python",
   "pygments_lexer": "ipython3",
   "version": "3.9.13"
  }
 },
 "nbformat": 4,
 "nbformat_minor": 5
}
